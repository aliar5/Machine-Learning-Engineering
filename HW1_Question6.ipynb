{
  "nbformat": 4,
  "nbformat_minor": 0,
  "metadata": {
    "colab": {
      "provenance": [],
      "authorship_tag": "ABX9TyN8L4VC4AAzXeSC0Hm+SVBI",
      "include_colab_link": true
    },
    "kernelspec": {
      "name": "python3",
      "display_name": "Python 3"
    },
    "language_info": {
      "name": "python"
    }
  },
  "cells": [
    {
      "cell_type": "markdown",
      "metadata": {
        "id": "view-in-github",
        "colab_type": "text"
      },
      "source": [
        "<a href=\"https://colab.research.google.com/github/aliar5/Machine-Learning-Engineering/blob/main/HW1_Question6.ipynb\" target=\"_parent\"><img src=\"https://colab.research.google.com/assets/colab-badge.svg\" alt=\"Open In Colab\"/></a>"
      ]
    },
    {
      "cell_type": "code",
      "execution_count": 7,
      "metadata": {
        "colab": {
          "base_uri": "https://localhost:8080/",
          "height": 1000
        },
        "id": "hni1WfacmuZf",
        "outputId": "41e4e1a1-2255-41df-c718-4dec2cfcae4e"
      },
      "outputs": [
        {
          "output_type": "stream",
          "name": "stderr",
          "text": [
            "/usr/local/lib/python3.10/dist-packages/keras/src/layers/core/dense.py:87: UserWarning: Do not pass an `input_shape`/`input_dim` argument to a layer. When using Sequential models, prefer using an `Input(shape)` object as the first layer in the model instead.\n",
            "  super().__init__(activity_regularizer=activity_regularizer, **kwargs)\n"
          ]
        },
        {
          "output_type": "display_data",
          "data": {
            "text/plain": [
              "\u001b[1mModel: \"sequential_5\"\u001b[0m\n"
            ],
            "text/html": [
              "<pre style=\"white-space:pre;overflow-x:auto;line-height:normal;font-family:Menlo,'DejaVu Sans Mono',consolas,'Courier New',monospace\"><span style=\"font-weight: bold\">Model: \"sequential_5\"</span>\n",
              "</pre>\n"
            ]
          },
          "metadata": {}
        },
        {
          "output_type": "display_data",
          "data": {
            "text/plain": [
              "┏━━━━━━━━━━━━━━━━━━━━━━━━━━━━━━━━━━━━━━┳━━━━━━━━━━━━━━━━━━━━━━━━━━━━━┳━━━━━━━━━━━━━━━━━┓\n",
              "┃\u001b[1m \u001b[0m\u001b[1mLayer (type)                        \u001b[0m\u001b[1m \u001b[0m┃\u001b[1m \u001b[0m\u001b[1mOutput Shape               \u001b[0m\u001b[1m \u001b[0m┃\u001b[1m \u001b[0m\u001b[1m        Param #\u001b[0m\u001b[1m \u001b[0m┃\n",
              "┡━━━━━━━━━━━━━━━━━━━━━━━━━━━━━━━━━━━━━━╇━━━━━━━━━━━━━━━━━━━━━━━━━━━━━╇━━━━━━━━━━━━━━━━━┩\n",
              "│ dense_15 (\u001b[38;5;33mDense\u001b[0m)                     │ (\u001b[38;5;45mNone\u001b[0m, \u001b[38;5;34m6\u001b[0m)                   │              \u001b[38;5;34m12\u001b[0m │\n",
              "├──────────────────────────────────────┼─────────────────────────────┼─────────────────┤\n",
              "│ dense_16 (\u001b[38;5;33mDense\u001b[0m)                     │ (\u001b[38;5;45mNone\u001b[0m, \u001b[38;5;34m6\u001b[0m)                   │              \u001b[38;5;34m42\u001b[0m │\n",
              "├──────────────────────────────────────┼─────────────────────────────┼─────────────────┤\n",
              "│ dense_17 (\u001b[38;5;33mDense\u001b[0m)                     │ (\u001b[38;5;45mNone\u001b[0m, \u001b[38;5;34m1\u001b[0m)                   │               \u001b[38;5;34m7\u001b[0m │\n",
              "└──────────────────────────────────────┴─────────────────────────────┴─────────────────┘\n"
            ],
            "text/html": [
              "<pre style=\"white-space:pre;overflow-x:auto;line-height:normal;font-family:Menlo,'DejaVu Sans Mono',consolas,'Courier New',monospace\">┏━━━━━━━━━━━━━━━━━━━━━━━━━━━━━━━━━━━━━━┳━━━━━━━━━━━━━━━━━━━━━━━━━━━━━┳━━━━━━━━━━━━━━━━━┓\n",
              "┃<span style=\"font-weight: bold\"> Layer (type)                         </span>┃<span style=\"font-weight: bold\"> Output Shape                </span>┃<span style=\"font-weight: bold\">         Param # </span>┃\n",
              "┡━━━━━━━━━━━━━━━━━━━━━━━━━━━━━━━━━━━━━━╇━━━━━━━━━━━━━━━━━━━━━━━━━━━━━╇━━━━━━━━━━━━━━━━━┩\n",
              "│ dense_15 (<span style=\"color: #0087ff; text-decoration-color: #0087ff\">Dense</span>)                     │ (<span style=\"color: #00d7ff; text-decoration-color: #00d7ff\">None</span>, <span style=\"color: #00af00; text-decoration-color: #00af00\">6</span>)                   │              <span style=\"color: #00af00; text-decoration-color: #00af00\">12</span> │\n",
              "├──────────────────────────────────────┼─────────────────────────────┼─────────────────┤\n",
              "│ dense_16 (<span style=\"color: #0087ff; text-decoration-color: #0087ff\">Dense</span>)                     │ (<span style=\"color: #00d7ff; text-decoration-color: #00d7ff\">None</span>, <span style=\"color: #00af00; text-decoration-color: #00af00\">6</span>)                   │              <span style=\"color: #00af00; text-decoration-color: #00af00\">42</span> │\n",
              "├──────────────────────────────────────┼─────────────────────────────┼─────────────────┤\n",
              "│ dense_17 (<span style=\"color: #0087ff; text-decoration-color: #0087ff\">Dense</span>)                     │ (<span style=\"color: #00d7ff; text-decoration-color: #00d7ff\">None</span>, <span style=\"color: #00af00; text-decoration-color: #00af00\">1</span>)                   │               <span style=\"color: #00af00; text-decoration-color: #00af00\">7</span> │\n",
              "└──────────────────────────────────────┴─────────────────────────────┴─────────────────┘\n",
              "</pre>\n"
            ]
          },
          "metadata": {}
        },
        {
          "output_type": "display_data",
          "data": {
            "text/plain": [
              "\u001b[1m Total params: \u001b[0m\u001b[38;5;34m185\u001b[0m (744.00 B)\n"
            ],
            "text/html": [
              "<pre style=\"white-space:pre;overflow-x:auto;line-height:normal;font-family:Menlo,'DejaVu Sans Mono',consolas,'Courier New',monospace\"><span style=\"font-weight: bold\"> Total params: </span><span style=\"color: #00af00; text-decoration-color: #00af00\">185</span> (744.00 B)\n",
              "</pre>\n"
            ]
          },
          "metadata": {}
        },
        {
          "output_type": "display_data",
          "data": {
            "text/plain": [
              "\u001b[1m Trainable params: \u001b[0m\u001b[38;5;34m61\u001b[0m (244.00 B)\n"
            ],
            "text/html": [
              "<pre style=\"white-space:pre;overflow-x:auto;line-height:normal;font-family:Menlo,'DejaVu Sans Mono',consolas,'Courier New',monospace\"><span style=\"font-weight: bold\"> Trainable params: </span><span style=\"color: #00af00; text-decoration-color: #00af00\">61</span> (244.00 B)\n",
              "</pre>\n"
            ]
          },
          "metadata": {}
        },
        {
          "output_type": "display_data",
          "data": {
            "text/plain": [
              "\u001b[1m Non-trainable params: \u001b[0m\u001b[38;5;34m0\u001b[0m (0.00 B)\n"
            ],
            "text/html": [
              "<pre style=\"white-space:pre;overflow-x:auto;line-height:normal;font-family:Menlo,'DejaVu Sans Mono',consolas,'Courier New',monospace\"><span style=\"font-weight: bold\"> Non-trainable params: </span><span style=\"color: #00af00; text-decoration-color: #00af00\">0</span> (0.00 B)\n",
              "</pre>\n"
            ]
          },
          "metadata": {}
        },
        {
          "output_type": "display_data",
          "data": {
            "text/plain": [
              "\u001b[1m Optimizer params: \u001b[0m\u001b[38;5;34m124\u001b[0m (500.00 B)\n"
            ],
            "text/html": [
              "<pre style=\"white-space:pre;overflow-x:auto;line-height:normal;font-family:Menlo,'DejaVu Sans Mono',consolas,'Courier New',monospace\"><span style=\"font-weight: bold\"> Optimizer params: </span><span style=\"color: #00af00; text-decoration-color: #00af00\">124</span> (500.00 B)\n",
              "</pre>\n"
            ]
          },
          "metadata": {}
        },
        {
          "output_type": "stream",
          "name": "stdout",
          "text": [
            "\u001b[1m5/5\u001b[0m \u001b[32m━━━━━━━━━━━━━━━━━━━━\u001b[0m\u001b[37m\u001b[0m \u001b[1m0s\u001b[0m 10ms/step\n",
            "Sepal Length: 5.10 => Predicted Petal Length: 2.38, Actual Petal Length: 1.40\n",
            "Sepal Length: 4.90 => Predicted Petal Length: 2.01, Actual Petal Length: 1.40\n",
            "Sepal Length: 4.70 => Predicted Petal Length: 1.64, Actual Petal Length: 1.30\n",
            "Sepal Length: 4.60 => Predicted Petal Length: 1.45, Actual Petal Length: 1.50\n",
            "Sepal Length: 5.00 => Predicted Petal Length: 2.20, Actual Petal Length: 1.40\n",
            "Sepal Length: 5.40 => Predicted Petal Length: 2.94, Actual Petal Length: 1.70\n",
            "Sepal Length: 4.60 => Predicted Petal Length: 1.45, Actual Petal Length: 1.40\n",
            "Sepal Length: 5.00 => Predicted Petal Length: 2.20, Actual Petal Length: 1.50\n",
            "Sepal Length: 4.40 => Predicted Petal Length: 1.08, Actual Petal Length: 1.40\n",
            "Sepal Length: 4.90 => Predicted Petal Length: 2.01, Actual Petal Length: 1.50\n",
            "Sepal Length: 5.40 => Predicted Petal Length: 2.94, Actual Petal Length: 1.50\n",
            "Sepal Length: 4.80 => Predicted Petal Length: 1.83, Actual Petal Length: 1.60\n",
            "Sepal Length: 4.80 => Predicted Petal Length: 1.83, Actual Petal Length: 1.40\n",
            "Sepal Length: 4.30 => Predicted Petal Length: 0.90, Actual Petal Length: 1.10\n",
            "Sepal Length: 5.80 => Predicted Petal Length: 3.68, Actual Petal Length: 1.20\n",
            "Sepal Length: 5.70 => Predicted Petal Length: 3.50, Actual Petal Length: 1.50\n",
            "Sepal Length: 5.40 => Predicted Petal Length: 2.94, Actual Petal Length: 1.30\n",
            "Sepal Length: 5.10 => Predicted Petal Length: 2.38, Actual Petal Length: 1.40\n",
            "Sepal Length: 5.70 => Predicted Petal Length: 3.50, Actual Petal Length: 1.70\n",
            "Sepal Length: 5.10 => Predicted Petal Length: 2.38, Actual Petal Length: 1.50\n",
            "Sepal Length: 5.40 => Predicted Petal Length: 2.94, Actual Petal Length: 1.70\n",
            "Sepal Length: 5.10 => Predicted Petal Length: 2.38, Actual Petal Length: 1.50\n",
            "Sepal Length: 4.60 => Predicted Petal Length: 1.45, Actual Petal Length: 1.00\n",
            "Sepal Length: 5.10 => Predicted Petal Length: 2.38, Actual Petal Length: 1.70\n",
            "Sepal Length: 4.80 => Predicted Petal Length: 1.83, Actual Petal Length: 1.90\n",
            "Sepal Length: 5.00 => Predicted Petal Length: 2.20, Actual Petal Length: 1.60\n",
            "Sepal Length: 5.00 => Predicted Petal Length: 2.20, Actual Petal Length: 1.60\n",
            "Sepal Length: 5.20 => Predicted Petal Length: 2.57, Actual Petal Length: 1.50\n",
            "Sepal Length: 5.20 => Predicted Petal Length: 2.57, Actual Petal Length: 1.40\n",
            "Sepal Length: 4.70 => Predicted Petal Length: 1.64, Actual Petal Length: 1.60\n",
            "Sepal Length: 4.80 => Predicted Petal Length: 1.83, Actual Petal Length: 1.60\n",
            "Sepal Length: 5.40 => Predicted Petal Length: 2.94, Actual Petal Length: 1.50\n",
            "Sepal Length: 5.20 => Predicted Petal Length: 2.57, Actual Petal Length: 1.50\n",
            "Sepal Length: 5.50 => Predicted Petal Length: 3.13, Actual Petal Length: 1.40\n",
            "Sepal Length: 4.90 => Predicted Petal Length: 2.01, Actual Petal Length: 1.50\n",
            "Sepal Length: 5.00 => Predicted Petal Length: 2.20, Actual Petal Length: 1.20\n",
            "Sepal Length: 5.50 => Predicted Petal Length: 3.13, Actual Petal Length: 1.30\n",
            "Sepal Length: 4.90 => Predicted Petal Length: 2.01, Actual Petal Length: 1.40\n",
            "Sepal Length: 4.40 => Predicted Petal Length: 1.08, Actual Petal Length: 1.30\n",
            "Sepal Length: 5.10 => Predicted Petal Length: 2.38, Actual Petal Length: 1.50\n",
            "Sepal Length: 5.00 => Predicted Petal Length: 2.20, Actual Petal Length: 1.30\n",
            "Sepal Length: 4.50 => Predicted Petal Length: 1.27, Actual Petal Length: 1.30\n",
            "Sepal Length: 4.40 => Predicted Petal Length: 1.08, Actual Petal Length: 1.30\n",
            "Sepal Length: 5.00 => Predicted Petal Length: 2.20, Actual Petal Length: 1.60\n",
            "Sepal Length: 5.10 => Predicted Petal Length: 2.38, Actual Petal Length: 1.90\n",
            "Sepal Length: 4.80 => Predicted Petal Length: 1.83, Actual Petal Length: 1.40\n",
            "Sepal Length: 5.10 => Predicted Petal Length: 2.38, Actual Petal Length: 1.60\n",
            "Sepal Length: 4.60 => Predicted Petal Length: 1.45, Actual Petal Length: 1.40\n",
            "Sepal Length: 5.30 => Predicted Petal Length: 2.76, Actual Petal Length: 1.50\n",
            "Sepal Length: 5.00 => Predicted Petal Length: 2.20, Actual Petal Length: 1.40\n",
            "Sepal Length: 7.00 => Predicted Petal Length: 5.91, Actual Petal Length: 4.70\n",
            "Sepal Length: 6.40 => Predicted Petal Length: 4.80, Actual Petal Length: 4.50\n",
            "Sepal Length: 6.90 => Predicted Petal Length: 5.73, Actual Petal Length: 4.90\n",
            "Sepal Length: 5.50 => Predicted Petal Length: 3.13, Actual Petal Length: 4.00\n",
            "Sepal Length: 6.50 => Predicted Petal Length: 4.99, Actual Petal Length: 4.60\n",
            "Sepal Length: 5.70 => Predicted Petal Length: 3.50, Actual Petal Length: 4.50\n",
            "Sepal Length: 6.30 => Predicted Petal Length: 4.61, Actual Petal Length: 4.70\n",
            "Sepal Length: 4.90 => Predicted Petal Length: 2.01, Actual Petal Length: 3.30\n",
            "Sepal Length: 6.60 => Predicted Petal Length: 5.17, Actual Petal Length: 4.60\n",
            "Sepal Length: 5.20 => Predicted Petal Length: 2.57, Actual Petal Length: 3.90\n",
            "Sepal Length: 5.00 => Predicted Petal Length: 2.20, Actual Petal Length: 3.50\n",
            "Sepal Length: 5.90 => Predicted Petal Length: 3.87, Actual Petal Length: 4.20\n",
            "Sepal Length: 6.00 => Predicted Petal Length: 4.06, Actual Petal Length: 4.00\n",
            "Sepal Length: 6.10 => Predicted Petal Length: 4.24, Actual Petal Length: 4.70\n",
            "Sepal Length: 5.60 => Predicted Petal Length: 3.31, Actual Petal Length: 3.60\n",
            "Sepal Length: 6.70 => Predicted Petal Length: 5.36, Actual Petal Length: 4.40\n",
            "Sepal Length: 5.60 => Predicted Petal Length: 3.31, Actual Petal Length: 4.50\n",
            "Sepal Length: 5.80 => Predicted Petal Length: 3.68, Actual Petal Length: 4.10\n",
            "Sepal Length: 6.20 => Predicted Petal Length: 4.43, Actual Petal Length: 4.50\n",
            "Sepal Length: 5.60 => Predicted Petal Length: 3.31, Actual Petal Length: 3.90\n",
            "Sepal Length: 5.90 => Predicted Petal Length: 3.87, Actual Petal Length: 4.80\n",
            "Sepal Length: 6.10 => Predicted Petal Length: 4.24, Actual Petal Length: 4.00\n",
            "Sepal Length: 6.30 => Predicted Petal Length: 4.61, Actual Petal Length: 4.90\n",
            "Sepal Length: 6.10 => Predicted Petal Length: 4.24, Actual Petal Length: 4.70\n",
            "Sepal Length: 6.40 => Predicted Petal Length: 4.80, Actual Petal Length: 4.30\n",
            "Sepal Length: 6.60 => Predicted Petal Length: 5.17, Actual Petal Length: 4.40\n",
            "Sepal Length: 6.80 => Predicted Petal Length: 5.54, Actual Petal Length: 4.80\n",
            "Sepal Length: 6.70 => Predicted Petal Length: 5.36, Actual Petal Length: 5.00\n",
            "Sepal Length: 6.00 => Predicted Petal Length: 4.06, Actual Petal Length: 4.50\n",
            "Sepal Length: 5.70 => Predicted Petal Length: 3.50, Actual Petal Length: 3.50\n",
            "Sepal Length: 5.50 => Predicted Petal Length: 3.13, Actual Petal Length: 3.80\n",
            "Sepal Length: 5.50 => Predicted Petal Length: 3.13, Actual Petal Length: 3.70\n",
            "Sepal Length: 5.80 => Predicted Petal Length: 3.68, Actual Petal Length: 3.90\n",
            "Sepal Length: 6.00 => Predicted Petal Length: 4.06, Actual Petal Length: 5.10\n",
            "Sepal Length: 5.40 => Predicted Petal Length: 2.94, Actual Petal Length: 4.50\n",
            "Sepal Length: 6.00 => Predicted Petal Length: 4.06, Actual Petal Length: 4.50\n",
            "Sepal Length: 6.70 => Predicted Petal Length: 5.36, Actual Petal Length: 4.70\n",
            "Sepal Length: 6.30 => Predicted Petal Length: 4.61, Actual Petal Length: 4.40\n",
            "Sepal Length: 5.60 => Predicted Petal Length: 3.31, Actual Petal Length: 4.10\n",
            "Sepal Length: 5.50 => Predicted Petal Length: 3.13, Actual Petal Length: 4.00\n",
            "Sepal Length: 5.50 => Predicted Petal Length: 3.13, Actual Petal Length: 4.40\n",
            "Sepal Length: 6.10 => Predicted Petal Length: 4.24, Actual Petal Length: 4.60\n",
            "Sepal Length: 5.80 => Predicted Petal Length: 3.68, Actual Petal Length: 4.00\n",
            "Sepal Length: 5.00 => Predicted Petal Length: 2.20, Actual Petal Length: 3.30\n",
            "Sepal Length: 5.60 => Predicted Petal Length: 3.31, Actual Petal Length: 4.20\n",
            "Sepal Length: 5.70 => Predicted Petal Length: 3.50, Actual Petal Length: 4.20\n",
            "Sepal Length: 5.70 => Predicted Petal Length: 3.50, Actual Petal Length: 4.20\n",
            "Sepal Length: 6.20 => Predicted Petal Length: 4.43, Actual Petal Length: 4.30\n",
            "Sepal Length: 5.10 => Predicted Petal Length: 2.38, Actual Petal Length: 3.00\n",
            "Sepal Length: 5.70 => Predicted Petal Length: 3.50, Actual Petal Length: 4.10\n",
            "Sepal Length: 6.30 => Predicted Petal Length: 4.61, Actual Petal Length: 6.00\n",
            "Sepal Length: 5.80 => Predicted Petal Length: 3.68, Actual Petal Length: 5.10\n",
            "Sepal Length: 7.10 => Predicted Petal Length: 6.10, Actual Petal Length: 5.90\n",
            "Sepal Length: 6.30 => Predicted Petal Length: 4.61, Actual Petal Length: 5.60\n",
            "Sepal Length: 6.50 => Predicted Petal Length: 4.99, Actual Petal Length: 5.80\n",
            "Sepal Length: 7.60 => Predicted Petal Length: 7.03, Actual Petal Length: 6.60\n",
            "Sepal Length: 4.90 => Predicted Petal Length: 2.01, Actual Petal Length: 4.50\n",
            "Sepal Length: 7.30 => Predicted Petal Length: 6.47, Actual Petal Length: 6.30\n",
            "Sepal Length: 6.70 => Predicted Petal Length: 5.36, Actual Petal Length: 5.80\n",
            "Sepal Length: 7.20 => Predicted Petal Length: 6.29, Actual Petal Length: 6.10\n",
            "Sepal Length: 6.50 => Predicted Petal Length: 4.99, Actual Petal Length: 5.10\n",
            "Sepal Length: 6.40 => Predicted Petal Length: 4.80, Actual Petal Length: 5.30\n",
            "Sepal Length: 6.80 => Predicted Petal Length: 5.54, Actual Petal Length: 5.50\n",
            "Sepal Length: 5.70 => Predicted Petal Length: 3.50, Actual Petal Length: 5.00\n",
            "Sepal Length: 5.80 => Predicted Petal Length: 3.68, Actual Petal Length: 5.10\n",
            "Sepal Length: 6.40 => Predicted Petal Length: 4.80, Actual Petal Length: 5.30\n",
            "Sepal Length: 6.50 => Predicted Petal Length: 4.99, Actual Petal Length: 5.50\n",
            "Sepal Length: 7.70 => Predicted Petal Length: 7.22, Actual Petal Length: 6.70\n",
            "Sepal Length: 7.70 => Predicted Petal Length: 7.22, Actual Petal Length: 6.90\n",
            "Sepal Length: 6.00 => Predicted Petal Length: 4.06, Actual Petal Length: 5.00\n",
            "Sepal Length: 6.90 => Predicted Petal Length: 5.73, Actual Petal Length: 5.70\n",
            "Sepal Length: 5.60 => Predicted Petal Length: 3.31, Actual Petal Length: 4.90\n",
            "Sepal Length: 7.70 => Predicted Petal Length: 7.22, Actual Petal Length: 6.70\n",
            "Sepal Length: 6.30 => Predicted Petal Length: 4.61, Actual Petal Length: 4.90\n",
            "Sepal Length: 6.70 => Predicted Petal Length: 5.36, Actual Petal Length: 5.70\n",
            "Sepal Length: 7.20 => Predicted Petal Length: 6.29, Actual Petal Length: 6.00\n",
            "Sepal Length: 6.20 => Predicted Petal Length: 4.43, Actual Petal Length: 4.80\n",
            "Sepal Length: 6.10 => Predicted Petal Length: 4.24, Actual Petal Length: 4.90\n",
            "Sepal Length: 6.40 => Predicted Petal Length: 4.80, Actual Petal Length: 5.60\n",
            "Sepal Length: 7.20 => Predicted Petal Length: 6.29, Actual Petal Length: 5.80\n",
            "Sepal Length: 7.40 => Predicted Petal Length: 6.66, Actual Petal Length: 6.10\n",
            "Sepal Length: 7.90 => Predicted Petal Length: 7.59, Actual Petal Length: 6.40\n",
            "Sepal Length: 6.40 => Predicted Petal Length: 4.80, Actual Petal Length: 5.60\n",
            "Sepal Length: 6.30 => Predicted Petal Length: 4.61, Actual Petal Length: 5.10\n",
            "Sepal Length: 6.10 => Predicted Petal Length: 4.24, Actual Petal Length: 5.60\n",
            "Sepal Length: 7.70 => Predicted Petal Length: 7.22, Actual Petal Length: 6.10\n",
            "Sepal Length: 6.30 => Predicted Petal Length: 4.61, Actual Petal Length: 5.60\n",
            "Sepal Length: 6.40 => Predicted Petal Length: 4.80, Actual Petal Length: 5.50\n",
            "Sepal Length: 6.00 => Predicted Petal Length: 4.06, Actual Petal Length: 4.80\n",
            "Sepal Length: 6.90 => Predicted Petal Length: 5.73, Actual Petal Length: 5.40\n",
            "Sepal Length: 6.70 => Predicted Petal Length: 5.36, Actual Petal Length: 5.60\n",
            "Sepal Length: 6.90 => Predicted Petal Length: 5.73, Actual Petal Length: 5.10\n",
            "Sepal Length: 5.80 => Predicted Petal Length: 3.68, Actual Petal Length: 5.10\n",
            "Sepal Length: 6.80 => Predicted Petal Length: 5.54, Actual Petal Length: 5.90\n",
            "Sepal Length: 6.70 => Predicted Petal Length: 5.36, Actual Petal Length: 5.70\n",
            "Sepal Length: 6.70 => Predicted Petal Length: 5.36, Actual Petal Length: 5.20\n",
            "Sepal Length: 6.30 => Predicted Petal Length: 4.61, Actual Petal Length: 5.00\n",
            "Sepal Length: 6.50 => Predicted Petal Length: 4.99, Actual Petal Length: 5.20\n",
            "Sepal Length: 6.20 => Predicted Petal Length: 4.43, Actual Petal Length: 5.40\n",
            "Sepal Length: 5.90 => Predicted Petal Length: 3.87, Actual Petal Length: 5.10\n"
          ]
        }
      ],
      "source": [
        "#Question 6\n",
        "\n",
        "import tensorflow as tf\n",
        "from numpy import loadtxt\n",
        "from keras.models import Sequential\n",
        "from keras.layers import Dense\n",
        "from keras import optimizers\n",
        "from tensorflow.python.keras.optimizers import *\n",
        "import numpy as np\n",
        "import pandas as pd\n",
        "\n",
        "#Load iris dataset\n",
        "from sklearn.datasets import load_iris\n",
        "data = load_iris()\n",
        "\n",
        "#Create data frame for easier manipulation\n",
        "df = pd.DataFrame(data.data, columns=data.feature_names)\n",
        "\n",
        "#Define input (Sepal Length) and Output (Peatal Length)\n",
        "X = df.iloc[:, 0].values.reshape(-1,1)\n",
        "y = df.iloc[:, 2].values.reshape(-1,1)\n",
        "\n",
        "#define keras model (neural network)\n",
        "model = Sequential()\n",
        "\n",
        "model.add(Dense(6,input_dim=1,activation='relu'))\n",
        "model.add(Dense(6,activation='relu'))\n",
        "model.add(Dense(1))\n",
        "\n",
        "#compile the keras model\n",
        "opt = optimizers.Adam(learning_rate=0.001)\n",
        "mse = tf.keras.losses.MeanSquaredError()\n",
        "model.compile(loss=mse, optimizer=opt)\n",
        "\n",
        "#fit the keras model on the dataset (CPU)\n",
        "model.fit(X,y,epochs=2000,batch_size=10, verbose=0) # model is trying to learn here\n",
        "model.summary()\n",
        "\n",
        "#make class predictions with the model\n",
        "predictions = model.predict(X)\n",
        "\n",
        "#summarize the first 10 cases\n",
        "for i in range(len(X)):\n",
        "  print(f\"Sepal Length: {X[i][0]:.2f} => Predicted Petal Length: {predictions[i][0]:.2f}, Actual Petal Length: {y[i][0]:.2f}\")"
      ]
    }
  ]
}