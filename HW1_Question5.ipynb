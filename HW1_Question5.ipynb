{
  "nbformat": 4,
  "nbformat_minor": 0,
  "metadata": {
    "colab": {
      "provenance": [],
      "authorship_tag": "ABX9TyO3jpCQ/BHplvsHzAeNe53e",
      "include_colab_link": true
    },
    "kernelspec": {
      "name": "python3",
      "display_name": "Python 3"
    },
    "language_info": {
      "name": "python"
    }
  },
  "cells": [
    {
      "cell_type": "markdown",
      "metadata": {
        "id": "view-in-github",
        "colab_type": "text"
      },
      "source": [
        "<a href=\"https://colab.research.google.com/github/aliar5/Machine-Learning-Engineering/blob/main/HW1_Question5.ipynb\" target=\"_parent\"><img src=\"https://colab.research.google.com/assets/colab-badge.svg\" alt=\"Open In Colab\"/></a>"
      ]
    },
    {
      "cell_type": "code",
      "execution_count": 2,
      "metadata": {
        "colab": {
          "base_uri": "https://localhost:8080/",
          "height": 2116
        },
        "id": "QzPBZZnIH2n4",
        "outputId": "5a9cc141-d47c-40d9-9087-d0dc1692e7fe"
      },
      "outputs": [
        {
          "output_type": "stream",
          "name": "stderr",
          "text": [
            "/usr/local/lib/python3.10/dist-packages/keras/src/layers/core/dense.py:87: UserWarning: Do not pass an `input_shape`/`input_dim` argument to a layer. When using Sequential models, prefer using an `Input(shape)` object as the first layer in the model instead.\n",
            "  super().__init__(activity_regularizer=activity_regularizer, **kwargs)\n"
          ]
        },
        {
          "output_type": "display_data",
          "data": {
            "text/plain": [
              "\u001b[1mModel: \"sequential_1\"\u001b[0m\n"
            ],
            "text/html": [
              "<pre style=\"white-space:pre;overflow-x:auto;line-height:normal;font-family:Menlo,'DejaVu Sans Mono',consolas,'Courier New',monospace\"><span style=\"font-weight: bold\">Model: \"sequential_1\"</span>\n",
              "</pre>\n"
            ]
          },
          "metadata": {}
        },
        {
          "output_type": "display_data",
          "data": {
            "text/plain": [
              "┏━━━━━━━━━━━━━━━━━━━━━━━━━━━━━━━━━━━━━━┳━━━━━━━━━━━━━━━━━━━━━━━━━━━━━┳━━━━━━━━━━━━━━━━━┓\n",
              "┃\u001b[1m \u001b[0m\u001b[1mLayer (type)                        \u001b[0m\u001b[1m \u001b[0m┃\u001b[1m \u001b[0m\u001b[1mOutput Shape               \u001b[0m\u001b[1m \u001b[0m┃\u001b[1m \u001b[0m\u001b[1m        Param #\u001b[0m\u001b[1m \u001b[0m┃\n",
              "┡━━━━━━━━━━━━━━━━━━━━━━━━━━━━━━━━━━━━━━╇━━━━━━━━━━━━━━━━━━━━━━━━━━━━━╇━━━━━━━━━━━━━━━━━┩\n",
              "│ dense_4 (\u001b[38;5;33mDense\u001b[0m)                      │ (\u001b[38;5;45mNone\u001b[0m, \u001b[38;5;34m6\u001b[0m)                   │              \u001b[38;5;34m12\u001b[0m │\n",
              "├──────────────────────────────────────┼─────────────────────────────┼─────────────────┤\n",
              "│ dense_5 (\u001b[38;5;33mDense\u001b[0m)                      │ (\u001b[38;5;45mNone\u001b[0m, \u001b[38;5;34m6\u001b[0m)                   │              \u001b[38;5;34m42\u001b[0m │\n",
              "├──────────────────────────────────────┼─────────────────────────────┼─────────────────┤\n",
              "│ dense_6 (\u001b[38;5;33mDense\u001b[0m)                      │ (\u001b[38;5;45mNone\u001b[0m, \u001b[38;5;34m6\u001b[0m)                   │              \u001b[38;5;34m42\u001b[0m │\n",
              "├──────────────────────────────────────┼─────────────────────────────┼─────────────────┤\n",
              "│ dense_7 (\u001b[38;5;33mDense\u001b[0m)                      │ (\u001b[38;5;45mNone\u001b[0m, \u001b[38;5;34m1\u001b[0m)                   │               \u001b[38;5;34m7\u001b[0m │\n",
              "└──────────────────────────────────────┴─────────────────────────────┴─────────────────┘\n"
            ],
            "text/html": [
              "<pre style=\"white-space:pre;overflow-x:auto;line-height:normal;font-family:Menlo,'DejaVu Sans Mono',consolas,'Courier New',monospace\">┏━━━━━━━━━━━━━━━━━━━━━━━━━━━━━━━━━━━━━━┳━━━━━━━━━━━━━━━━━━━━━━━━━━━━━┳━━━━━━━━━━━━━━━━━┓\n",
              "┃<span style=\"font-weight: bold\"> Layer (type)                         </span>┃<span style=\"font-weight: bold\"> Output Shape                </span>┃<span style=\"font-weight: bold\">         Param # </span>┃\n",
              "┡━━━━━━━━━━━━━━━━━━━━━━━━━━━━━━━━━━━━━━╇━━━━━━━━━━━━━━━━━━━━━━━━━━━━━╇━━━━━━━━━━━━━━━━━┩\n",
              "│ dense_4 (<span style=\"color: #0087ff; text-decoration-color: #0087ff\">Dense</span>)                      │ (<span style=\"color: #00d7ff; text-decoration-color: #00d7ff\">None</span>, <span style=\"color: #00af00; text-decoration-color: #00af00\">6</span>)                   │              <span style=\"color: #00af00; text-decoration-color: #00af00\">12</span> │\n",
              "├──────────────────────────────────────┼─────────────────────────────┼─────────────────┤\n",
              "│ dense_5 (<span style=\"color: #0087ff; text-decoration-color: #0087ff\">Dense</span>)                      │ (<span style=\"color: #00d7ff; text-decoration-color: #00d7ff\">None</span>, <span style=\"color: #00af00; text-decoration-color: #00af00\">6</span>)                   │              <span style=\"color: #00af00; text-decoration-color: #00af00\">42</span> │\n",
              "├──────────────────────────────────────┼─────────────────────────────┼─────────────────┤\n",
              "│ dense_6 (<span style=\"color: #0087ff; text-decoration-color: #0087ff\">Dense</span>)                      │ (<span style=\"color: #00d7ff; text-decoration-color: #00d7ff\">None</span>, <span style=\"color: #00af00; text-decoration-color: #00af00\">6</span>)                   │              <span style=\"color: #00af00; text-decoration-color: #00af00\">42</span> │\n",
              "├──────────────────────────────────────┼─────────────────────────────┼─────────────────┤\n",
              "│ dense_7 (<span style=\"color: #0087ff; text-decoration-color: #0087ff\">Dense</span>)                      │ (<span style=\"color: #00d7ff; text-decoration-color: #00d7ff\">None</span>, <span style=\"color: #00af00; text-decoration-color: #00af00\">1</span>)                   │               <span style=\"color: #00af00; text-decoration-color: #00af00\">7</span> │\n",
              "└──────────────────────────────────────┴─────────────────────────────┴─────────────────┘\n",
              "</pre>\n"
            ]
          },
          "metadata": {}
        },
        {
          "output_type": "display_data",
          "data": {
            "text/plain": [
              "\u001b[1m Total params: \u001b[0m\u001b[38;5;34m311\u001b[0m (1.22 KB)\n"
            ],
            "text/html": [
              "<pre style=\"white-space:pre;overflow-x:auto;line-height:normal;font-family:Menlo,'DejaVu Sans Mono',consolas,'Courier New',monospace\"><span style=\"font-weight: bold\"> Total params: </span><span style=\"color: #00af00; text-decoration-color: #00af00\">311</span> (1.22 KB)\n",
              "</pre>\n"
            ]
          },
          "metadata": {}
        },
        {
          "output_type": "display_data",
          "data": {
            "text/plain": [
              "\u001b[1m Trainable params: \u001b[0m\u001b[38;5;34m103\u001b[0m (412.00 B)\n"
            ],
            "text/html": [
              "<pre style=\"white-space:pre;overflow-x:auto;line-height:normal;font-family:Menlo,'DejaVu Sans Mono',consolas,'Courier New',monospace\"><span style=\"font-weight: bold\"> Trainable params: </span><span style=\"color: #00af00; text-decoration-color: #00af00\">103</span> (412.00 B)\n",
              "</pre>\n"
            ]
          },
          "metadata": {}
        },
        {
          "output_type": "display_data",
          "data": {
            "text/plain": [
              "\u001b[1m Non-trainable params: \u001b[0m\u001b[38;5;34m0\u001b[0m (0.00 B)\n"
            ],
            "text/html": [
              "<pre style=\"white-space:pre;overflow-x:auto;line-height:normal;font-family:Menlo,'DejaVu Sans Mono',consolas,'Courier New',monospace\"><span style=\"font-weight: bold\"> Non-trainable params: </span><span style=\"color: #00af00; text-decoration-color: #00af00\">0</span> (0.00 B)\n",
              "</pre>\n"
            ]
          },
          "metadata": {}
        },
        {
          "output_type": "display_data",
          "data": {
            "text/plain": [
              "\u001b[1m Optimizer params: \u001b[0m\u001b[38;5;34m208\u001b[0m (836.00 B)\n"
            ],
            "text/html": [
              "<pre style=\"white-space:pre;overflow-x:auto;line-height:normal;font-family:Menlo,'DejaVu Sans Mono',consolas,'Courier New',monospace\"><span style=\"font-weight: bold\"> Optimizer params: </span><span style=\"color: #00af00; text-decoration-color: #00af00\">208</span> (836.00 B)\n",
              "</pre>\n"
            ]
          },
          "metadata": {}
        },
        {
          "output_type": "stream",
          "name": "stdout",
          "text": [
            "\u001b[1m4/4\u001b[0m \u001b[32m━━━━━━━━━━━━━━━━━━━━\u001b[0m\u001b[37m\u001b[0m \u001b[1m0s\u001b[0m 28ms/step\n",
            "1 => 1.69 (expected 1.00)\n",
            "2 => 1.69 (expected 1.10)\n",
            "3 => 1.69 (expected 1.17)\n",
            "4 => 1.69 (expected 1.22)\n",
            "5 => 1.69 (expected 1.26)\n",
            "6 => 1.69 (expected 1.29)\n",
            "7 => 1.69 (expected 1.32)\n",
            "8 => 1.69 (expected 1.35)\n",
            "9 => 1.69 (expected 1.37)\n",
            "10 => 1.69 (expected 1.39)\n",
            "11 => 1.69 (expected 1.41)\n",
            "12 => 1.69 (expected 1.43)\n",
            "13 => 1.69 (expected 1.44)\n",
            "14 => 1.69 (expected 1.46)\n",
            "15 => 1.69 (expected 1.47)\n",
            "16 => 1.69 (expected 1.49)\n",
            "17 => 1.69 (expected 1.50)\n",
            "18 => 1.69 (expected 1.51)\n",
            "19 => 1.69 (expected 1.52)\n",
            "20 => 1.69 (expected 1.53)\n",
            "21 => 1.69 (expected 1.54)\n",
            "22 => 1.69 (expected 1.56)\n",
            "23 => 1.69 (expected 1.57)\n",
            "24 => 1.69 (expected 1.57)\n",
            "25 => 1.69 (expected 1.58)\n",
            "26 => 1.69 (expected 1.59)\n",
            "27 => 1.69 (expected 1.60)\n",
            "28 => 1.69 (expected 1.61)\n",
            "29 => 1.69 (expected 1.62)\n",
            "30 => 1.69 (expected 1.63)\n",
            "31 => 1.69 (expected 1.63)\n",
            "32 => 1.69 (expected 1.64)\n",
            "33 => 1.69 (expected 1.65)\n",
            "34 => 1.69 (expected 1.65)\n",
            "35 => 1.69 (expected 1.66)\n",
            "36 => 1.69 (expected 1.67)\n",
            "37 => 1.69 (expected 1.68)\n",
            "38 => 1.69 (expected 1.68)\n",
            "39 => 1.69 (expected 1.69)\n",
            "40 => 1.69 (expected 1.69)\n",
            "41 => 1.69 (expected 1.70)\n",
            "42 => 1.69 (expected 1.71)\n",
            "43 => 1.69 (expected 1.71)\n",
            "44 => 1.69 (expected 1.72)\n",
            "45 => 1.69 (expected 1.72)\n",
            "46 => 1.69 (expected 1.73)\n",
            "47 => 1.69 (expected 1.73)\n",
            "48 => 1.69 (expected 1.74)\n",
            "49 => 1.69 (expected 1.74)\n",
            "50 => 1.69 (expected 1.75)\n",
            "51 => 1.69 (expected 1.75)\n",
            "52 => 1.69 (expected 1.76)\n",
            "53 => 1.69 (expected 1.76)\n",
            "54 => 1.69 (expected 1.77)\n",
            "55 => 1.69 (expected 1.77)\n",
            "56 => 1.69 (expected 1.78)\n",
            "57 => 1.69 (expected 1.78)\n",
            "58 => 1.69 (expected 1.79)\n",
            "59 => 1.69 (expected 1.79)\n",
            "60 => 1.69 (expected 1.79)\n",
            "61 => 1.69 (expected 1.80)\n",
            "62 => 1.69 (expected 1.80)\n",
            "63 => 1.69 (expected 1.81)\n",
            "64 => 1.69 (expected 1.81)\n",
            "65 => 1.69 (expected 1.82)\n",
            "66 => 1.69 (expected 1.82)\n",
            "67 => 1.69 (expected 1.82)\n",
            "68 => 1.69 (expected 1.83)\n",
            "69 => 1.69 (expected 1.83)\n",
            "70 => 1.69 (expected 1.83)\n",
            "71 => 1.69 (expected 1.84)\n",
            "72 => 1.69 (expected 1.84)\n",
            "73 => 1.69 (expected 1.85)\n",
            "74 => 1.69 (expected 1.85)\n",
            "75 => 1.69 (expected 1.85)\n",
            "76 => 1.69 (expected 1.86)\n",
            "77 => 1.69 (expected 1.86)\n",
            "78 => 1.69 (expected 1.86)\n",
            "79 => 1.69 (expected 1.87)\n",
            "80 => 1.69 (expected 1.87)\n",
            "81 => 1.69 (expected 1.87)\n",
            "82 => 1.69 (expected 1.88)\n",
            "83 => 1.69 (expected 1.88)\n",
            "84 => 1.69 (expected 1.88)\n",
            "85 => 1.69 (expected 1.89)\n",
            "86 => 1.69 (expected 1.89)\n",
            "87 => 1.69 (expected 1.89)\n",
            "88 => 1.69 (expected 1.90)\n",
            "89 => 1.69 (expected 1.90)\n",
            "90 => 1.69 (expected 1.90)\n",
            "91 => 1.69 (expected 1.90)\n",
            "92 => 1.69 (expected 1.91)\n",
            "93 => 1.69 (expected 1.91)\n",
            "94 => 1.69 (expected 1.91)\n",
            "95 => 1.69 (expected 1.92)\n",
            "96 => 1.69 (expected 1.92)\n",
            "97 => 1.69 (expected 1.92)\n",
            "98 => 1.69 (expected 1.93)\n",
            "99 => 1.69 (expected 1.93)\n",
            "100 => 1.69 (expected 1.93)\n"
          ]
        },
        {
          "output_type": "stream",
          "name": "stderr",
          "text": [
            "<ipython-input-2-be1be434374f>:40: DeprecationWarning: Conversion of an array with ndim > 0 to a scalar is deprecated, and will error in future. Ensure you extract a single element from your array before performing this operation. (Deprecated NumPy 1.25.)\n",
            "  print('%s => %.2f (expected %.2f)' %(X[i].tolist(), predictions[i], y[i]))\n"
          ]
        }
      ],
      "source": [
        "#Question 5\n",
        "\n",
        "import tensorflow as tf\n",
        "from numpy import loadtxt\n",
        "from keras.models import Sequential\n",
        "from keras.layers import Dense\n",
        "from keras import optimizers\n",
        "from tensorflow.python.keras.optimizers import *\n",
        "import numpy as np\n",
        "\n",
        "#Load dataset\n",
        "#define input (X) and output (y)\n",
        "X = np.arange(1,101)\n",
        "y = np.power(X, 1/7)\n",
        "\n",
        "\n",
        "#define keras model (neural network)\n",
        "model = Sequential()\n",
        "\n",
        "model.add(Dense(6,input_dim=1,activation='relu'))\n",
        "model.add(Dense(6,activation='relu'))\n",
        "model.add(Dense(6,activation='relu'))\n",
        "model.add(Dense(1))\n",
        "\n",
        "#compile the keras model\n",
        "opt = optimizers.Adam(learning_rate=0.001)\n",
        "mse = tf.keras.losses.MeanSquaredError(\n",
        "    reduction=tf.keras.losses.Reduction.SUM)\n",
        "model.compile(loss=mse, optimizer=opt)\n",
        "\n",
        "#fit the keras model on the dataset (CPU)\n",
        "model.fit(X,y,epochs=2000,batch_size=10, verbose=0) # model is trying to learn here\n",
        "model.summary()\n",
        "\n",
        "#make class predictions with the model\n",
        "predictions = model.predict(X)\n",
        "\n",
        "#summarize the first 10 cases\n",
        "for i in range(len(X)):\n",
        "  print('%s => %.2f (expected %.2f)' %(X[i].tolist(), predictions[i], y[i]))"
      ]
    }
  ]
}